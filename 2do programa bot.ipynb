{
 "cells": [
  {
   "cell_type": "code",
   "execution_count": null,
   "id": "57d25253",
   "metadata": {},
   "outputs": [],
   "source": [
    "from telegram.ext import Updater, Filters, CommandHandler, MessageHandler\n",
    "#pip install python-telegram-bot para instalar la libreria\n",
    "import cv2\n",
    "from tensorflow.keras.applications.resnet50 import ResNet50\n",
    "import numpy as np\n",
    "from labels import lbl\n",
    "\n",
    "model = ResNet50()\n",
    "\n",
    "#Esto solo es cuando el bot es abierto, no es necesario ponerlo ya que\n",
    "#el bot fue creado por IDE de arduino\n",
    "\n",
    "def start(updater, context): \n",
    "\tupdater.message.reply_text(\"Bienvenido al bot de clasificacion!\")\n",
    "\n",
    "def help_(updater, context): \n",
    "\tupdater.message.reply_text(\"Solo envía una imagen para clasificar\")\n",
    "\n",
    "def message(updater, context):\n",
    "\tmsg = updater.message.text\n",
    "\tprint(msg)\n",
    "\tupdater.message.reply_text(msg)\n",
    "\n",
    "def image(updater, context):\n",
    "\tphoto = updater.message.photo[-1].get_file()\n",
    "\tphoto.download(\"img.jpg\")\n",
    "\n",
    "\timg = cv2.imread(\"img.jpg\")\n",
    "\n",
    "\timg = cv2.resize(img, (224,224))\n",
    "\timg = np.reshape(img, (1,224,224,3))\n",
    "\n",
    "\tpred = np.argmax(model.predict(img))\n",
    "\n",
    "\tpred = lbl[pred]\n",
    "\n",
    "\tprint(pred)\n",
    "    \n",
    "\n",
    "     ## Código para enviar al Telegram\n",
    "\n",
    "\tupdater.message.reply_text(pred)\n",
    "\n",
    "\n",
    "updater = Updater(\"Token Telegram BOT\")\n",
    "dispatcher = updater.dispatcher\n",
    "\n",
    "dispatcher.add_handler(CommandHandler(\"start\", start))\n",
    "dispatcher.add_handler(CommandHandler(\"help\", help_))\n",
    "\n",
    "dispatcher.add_handler(MessageHandler(Filters.text, message))\n",
    "\n",
    "dispatcher.add_handler(MessageHandler(Filters.photo, image))\n",
    "\n",
    "\n",
    "updater.start_polling()\n",
    "updater.idle()"
   ]
  },
  {
   "cell_type": "code",
   "execution_count": null,
   "id": "c3296d1e",
   "metadata": {},
   "outputs": [],
   "source": []
  }
 ],
 "metadata": {
  "kernelspec": {
   "display_name": "Python 3 (ipykernel)",
   "language": "python",
   "name": "python3"
  },
  "language_info": {
   "codemirror_mode": {
    "name": "ipython",
    "version": 3
   },
   "file_extension": ".py",
   "mimetype": "text/x-python",
   "name": "python",
   "nbconvert_exporter": "python",
   "pygments_lexer": "ipython3",
   "version": "3.9.7"
  }
 },
 "nbformat": 4,
 "nbformat_minor": 5
}
